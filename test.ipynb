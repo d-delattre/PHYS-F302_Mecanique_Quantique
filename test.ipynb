{
 "cells": [
  {
   "cell_type": "markdown",
   "metadata": {},
   "source": [
    "# Travail de Phys-F302"
   ]
  },
  {
   "cell_type": "markdown",
   "metadata": {},
   "source": [
    "## Introduction.\n",
    "\n",
    "Ce travail consiste en la résolution de l'équation différentielle linéaire\n",
    "\n",
    "\\begin{equation}\n",
    "    \\frac{d^4 f}{dx^4} - 5 \\frac{d^2 f}{dx^2} + 4 f = 0 \n",
    "\\end{equation}\n",
    "\n",
    "avec $f(x) : [0,1] \\longrightarrow \\mathbb{R}$. Nous avons les conditions initiales:\n",
    "\n",
    "\\begin{align}\n",
    "     f(0) &= a \\\\\n",
    "     f'(0) &= b \\\\\n",
    "     f(1) &= c \\\\\n",
    "     f'(1) &= d\n",
    "\\end{align}\n",
    "\n",
    "La première étape consiste à trouver une solution générale à cette équation. La deuxième étape est d'écrire un code qui donne la solution de cette équation en fonction des conditions aux bords.\n",
    "La troisième étape est de donner la solution avec des conditions aux bords données. La quatrième étape est de résoudre l'équation par la méthode Gauss-Seidel. La cinquième étape est résoudre l'équation avec la méthode du gradient conjugué."
   ]
  },
  {
   "cell_type": "markdown",
   "metadata": {},
   "source": [
    "### Remarque\n",
    "\n",
    "Pour que toutes les fonctions du notebook fonctionnent correctement, il est impératif d'exécuter toutes les cellules du notebook dans l'ordre."
   ]
  },
  {
   "cell_type": "code",
   "execution_count": 1,
   "metadata": {},
   "outputs": [],
   "source": [
    "import sympy as sy\n",
    "sy.init_printing()\n",
    "import numpy as np\n",
    "import matplotlib.pyplot as plt\n",
    "%matplotlib inline\n",
    "\n",
    "plt.rcParams['font.family'] = 'serif'\n",
    "plt.rcParams['font.size'] = 16"
   ]
  },
  {
   "cell_type": "markdown",
   "metadata": {},
   "source": [
    "## Question 1\n",
    "\n",
    "Quelle est la solution générale de l'équation $\\frac{d^4 f}{dx^4} - 5 \\frac{d^2 f}{dx^2} + 4 f = 0 $ ?"
   ]
  },
  {
   "cell_type": "markdown",
   "metadata": {},
   "source": [
    "Comme on a une equation différentielle linéaire à coefficients constants, on cherche une solution de la forme\n",
    "\\begin{equation}\n",
    "    f(x) = k e^{\\lambda x}\n",
    "\\end{equation}\n",
    "avec $\\lambda, k \\in \\mathbb{R}$ des constantes\n",
    "\n",
    "On remplace dans l'équation différentielle et on trouve\n",
    "\n",
    "\\begin{align}\n",
    "    \\frac{d^4 k e^{\\lambda x}}{dx^4} - 5 \\frac{d^2 k e^{\\lambda x}}{dx^2} + 4 k e^{\\lambda x} &= 0 \\\\\n",
    "    k \\lambda^4 e^{\\lambda x} - 5 k \\lambda^2 e^{\\lambda x} + 4 k e^{\\lambda x} &= 0\n",
    "\\end{align}\n",
    "    \n",
    "On met en évidence $k e^{\\lambda x}$:\n",
    "\\begin{equation}\n",
    "    (\\lambda^4 - 5\\lambda^2 + 4) k e^{\\lambda x} = 0.\n",
    "\\end{equation}\n",
    "\n",
    "Cette dernière équation permet de voir qu'on peu toujours poser $k=1$ sans perdre de généralité dans la solution\n",
    "\\begin{equation}\n",
    "    (\\lambda^4 - 5\\lambda^2 + 4) e^{\\lambda x} = 0\n",
    "\\end{equation}\n",
    "\n",
    "Vu que $e^{\\lambda x} \\neq 0$ pour tout $\\lambda \\in \\mathbb{R}$ et $x \\in [0,1]$, il vient que \n",
    "\\begin{equation}\n",
    "    \\lambda^4 - 5\\lambda^2 + 4 = 0.\n",
    "\\end{equation}\n",
    "\n",
    "C'est l'équation caractéristique de l'équation différentielle $\\frac{d^4 f}{dx^4} - 5 \\frac{d^2 f}{dx^2} + 4 f = 0$. Cette équation bicarrée se résous facilement en posant $u = \\lambda^2$.\n",
    "\n",
    "\\begin{align}\n",
    "    \\lambda^4 - 5\\lambda^2 + 4 &= 0 \\\\\n",
    "    u^2 - 5u + 4 &= 0 \\\\\n",
    "    \\frac{5 \\pm \\sqrt{9}}{2} = \\{1,4\\} &= u \\\\\n",
    "    \\sqrt{u} = \\{-2, -1, 1, 2\\} &= \\lambda\n",
    "\\end{align}\n",
    "\n",
    "Toutes les racines du polynome caractéristique sont réelles. Le principe de superposition des solutions d'une équation différentielle linéaire à coefficients constants permet d'écrire la solution générale:\n",
    "\\begin{equation}\n",
    "    f(x) = c_1 e^{-2 x} + c_2 e^{- x} + c_3 e^{x} + c_4 e^{2 x}\n",
    "\\end{equation}\n",
    "\n",
    "Où les $c_{1,2,3,4}$ sont des constantes réelles."
   ]
  },
  {
   "cell_type": "code",
   "execution_count": null,
   "metadata": {},
   "outputs": [],
   "source": []
  }
 ],
 "metadata": {
  "kernelspec": {
   "display_name": "Python 3.7.4 64-bit ('base': conda)",
   "language": "python",
   "name": "python37464bitbasecondae365a94cad914d4594151ff95535e3c9"
  },
  "language_info": {
   "codemirror_mode": {
    "name": "ipython",
    "version": 3
   },
   "file_extension": ".py",
   "mimetype": "text/x-python",
   "name": "python",
   "nbconvert_exporter": "python",
   "pygments_lexer": "ipython3",
   "version": "3.7.4"
  }
 },
 "nbformat": 4,
 "nbformat_minor": 4
}
